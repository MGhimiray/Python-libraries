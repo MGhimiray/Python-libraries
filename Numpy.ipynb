{
  "nbformat": 4,
  "nbformat_minor": 0,
  "metadata": {
    "colab": {
      "provenance": [],
      "authorship_tag": "ABX9TyNwDgsp62PjRcnU/51Jqg1K",
      "include_colab_link": true
    },
    "kernelspec": {
      "name": "python3",
      "display_name": "Python 3"
    },
    "language_info": {
      "name": "python"
    }
  },
  "cells": [
    {
      "cell_type": "markdown",
      "metadata": {
        "id": "view-in-github",
        "colab_type": "text"
      },
      "source": [
        "<a href=\"https://colab.research.google.com/github/MGhimiray/Python-libraries/blob/main/Numpy.ipynb\" target=\"_parent\"><img src=\"https://colab.research.google.com/assets/colab-badge.svg\" alt=\"Open In Colab\"/></a>"
      ]
    },
    {
      "cell_type": "markdown",
      "source": [
        "Import Numpy and its functions"
      ],
      "metadata": {
        "id": "17u7XXwLYZYN"
      }
    },
    {
      "cell_type": "code",
      "execution_count": null,
      "metadata": {
        "id": "Ou03ZgvWIPfG"
      },
      "outputs": [],
      "source": [
        "import numpy as np"
      ]
    },
    {
      "cell_type": "markdown",
      "source": [
        "Using numpy for creating an array"
      ],
      "metadata": {
        "id": "PZDVY3jjYXTk"
      }
    },
    {
      "cell_type": "code",
      "source": [
        "a=np.array([[1,2],[2,4],[5,6]])\n",
        "print(a[1])"
      ],
      "metadata": {
        "id": "qKD96aO2IwVH"
      },
      "execution_count": null,
      "outputs": []
    },
    {
      "cell_type": "markdown",
      "source": [
        "Creating an array in a particular range"
      ],
      "metadata": {
        "id": "-K0ilgvzZNWj"
      }
    },
    {
      "cell_type": "code",
      "source": [
        "np.arange(3,12,2)"
      ],
      "metadata": {
        "colab": {
          "base_uri": "https://localhost:8080/"
        },
        "id": "iJzLQLUzVPU_",
        "outputId": "3d80d9c3-49db-4cf2-ce70-dbcc0a3939de"
      },
      "execution_count": 10,
      "outputs": [
        {
          "output_type": "execute_result",
          "data": {
            "text/plain": [
              "array([ 3,  5,  7,  9, 11])"
            ]
          },
          "metadata": {},
          "execution_count": 10
        }
      ]
    },
    {
      "cell_type": "markdown",
      "source": [
        "Sorting elements"
      ],
      "metadata": {
        "id": "OHlwmm8Ia3pK"
      }
    },
    {
      "cell_type": "code",
      "source": [
        "a=np.array([8,59,6,45,100,57,1,34,64])\n",
        "np.sort(a)"
      ],
      "metadata": {
        "id": "Kn6rav4abKvP",
        "outputId": "55d1e265-a1d5-4d6e-d0a6-3a331dff099e",
        "colab": {
          "base_uri": "https://localhost:8080/"
        }
      },
      "execution_count": 12,
      "outputs": [
        {
          "output_type": "execute_result",
          "data": {
            "text/plain": [
              "array([  1,   6,   8,  34,  45,  57,  59,  64, 100])"
            ]
          },
          "metadata": {},
          "execution_count": 12
        }
      ]
    },
    {
      "cell_type": "markdown",
      "source": [
        "Concatenate arrays"
      ],
      "metadata": {
        "id": "ExqoFNPmcVc0"
      }
    },
    {
      "cell_type": "code",
      "source": [
        "a = np.array([[0, 6]])\n",
        "b = np.array([[3, 6],[8, 10]])\n",
        "np.concatenate((a, b), axis=0)"
      ],
      "metadata": {
        "id": "f-ozHhg1cgIy",
        "outputId": "6533f997-ee33-47d8-9782-94f54aa8b021",
        "colab": {
          "base_uri": "https://localhost:8080/"
        }
      },
      "execution_count": 18,
      "outputs": [
        {
          "output_type": "execute_result",
          "data": {
            "text/plain": [
              "array([[ 0,  6],\n",
              "       [ 3,  6],\n",
              "       [ 8, 10]])"
            ]
          },
          "metadata": {},
          "execution_count": 18
        }
      ]
    },
    {
      "cell_type": "code",
      "source": [
        "Reshaping an array"
      ],
      "metadata": {
        "id": "G-N373hodQrq"
      },
      "execution_count": null,
      "outputs": []
    },
    {
      "cell_type": "code",
      "source": [
        "a = np.array([4,8,9,6,7,1,0,2,3,5,6,5])\n",
        "print(a)\n",
        "b = a.reshape(4, 3)\n",
        "print(b)"
      ],
      "metadata": {
        "id": "8o7rNH_8dTxT",
        "outputId": "db27ac39-81e0-49b0-e1f7-0a1178d799ec",
        "colab": {
          "base_uri": "https://localhost:8080/"
        }
      },
      "execution_count": 21,
      "outputs": [
        {
          "output_type": "stream",
          "name": "stdout",
          "text": [
            "[4 8 9 6 7 1 0 2 3 5 6 5]\n",
            "[[4 8 9]\n",
            " [6 7 1]\n",
            " [0 2 3]\n",
            " [5 6 5]]\n"
          ]
        }
      ]
    },
    {
      "cell_type": "markdown",
      "source": [
        "Summing the elements"
      ],
      "metadata": {
        "id": "xeJBnRt0r_we"
      }
    },
    {
      "cell_type": "code",
      "source": [
        "b = np.array([[8, 1], [4, 3]])\n",
        "b.sum(axis=0)"
      ],
      "metadata": {
        "id": "RgHKQwRSr9YY",
        "outputId": "6cd7003b-c949-4d39-87c5-f64d455a963d",
        "colab": {
          "base_uri": "https://localhost:8080/"
        }
      },
      "execution_count": 25,
      "outputs": [
        {
          "output_type": "execute_result",
          "data": {
            "text/plain": [
              "array([12,  4])"
            ]
          },
          "metadata": {},
          "execution_count": 25
        }
      ]
    },
    {
      "cell_type": "markdown",
      "source": [
        "Summing Matrices"
      ],
      "metadata": {
        "id": "Bskvz0xNt2Qr"
      }
    },
    {
      "cell_type": "code",
      "source": [
        "a = np.array([[5, 4, 3], [7, 8, 6]])\n",
        "b = np.array([[7, 9, 3], [4, 3, 1]])\n",
        "c=a + b\n",
        "print(c)"
      ],
      "metadata": {
        "id": "SLArJVyitrxD",
        "outputId": "2faa7e1b-b255-48be-b5ae-87f4e569216b",
        "colab": {
          "base_uri": "https://localhost:8080/"
        }
      },
      "execution_count": 28,
      "outputs": [
        {
          "output_type": "stream",
          "name": "stdout",
          "text": [
            "[[12 13  6]\n",
            " [11 11  7]]\n"
          ]
        }
      ]
    },
    {
      "cell_type": "markdown",
      "source": [
        "Creating arrays with random integer numbers"
      ],
      "metadata": {
        "id": "nTfXMyYQwHDl"
      }
    },
    {
      "cell_type": "code",
      "source": [
        "a = np.random.randint(10, 50, 9)\n",
        "print(a)"
      ],
      "metadata": {
        "id": "lXRdVDoywTby",
        "outputId": "b013c89f-aa58-4806-ddeb-044249169894",
        "colab": {
          "base_uri": "https://localhost:8080/"
        }
      },
      "execution_count": 31,
      "outputs": [
        {
          "output_type": "stream",
          "name": "stdout",
          "text": [
            "[18 41 24 10 28 16 24 37 10]\n"
          ]
        }
      ]
    },
    {
      "cell_type": "markdown",
      "source": [
        "Creating arrays with random float values"
      ],
      "metadata": {
        "id": "akvQKS9hw8xN"
      }
    },
    {
      "cell_type": "code",
      "source": [
        "a = np.random.random([10])\n",
        "print(a)"
      ],
      "metadata": {
        "id": "_Ax4C4hTw-2E",
        "outputId": "1a37d655-ecdc-445c-f813-52289a63cb08",
        "colab": {
          "base_uri": "https://localhost:8080/"
        }
      },
      "execution_count": 33,
      "outputs": [
        {
          "output_type": "stream",
          "name": "stdout",
          "text": [
            "[0.75298259 0.71320647 0.46392828 0.0384184  0.09874422 0.03509299\n",
            " 0.90088323 0.3639531  0.93825301 0.25904596]\n"
          ]
        }
      ]
    }
  ]
}
