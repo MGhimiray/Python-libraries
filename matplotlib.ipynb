{
  "nbformat": 4,
  "nbformat_minor": 0,
  "metadata": {
    "colab": {
      "provenance": [],
      "authorship_tag": "ABX9TyOY37h0CIfJL3u8TN6M9dbU",
      "include_colab_link": true
    },
    "kernelspec": {
      "name": "python3",
      "display_name": "Python 3"
    },
    "language_info": {
      "name": "python"
    }
  },
  "cells": [
    {
      "cell_type": "markdown",
      "metadata": {
        "id": "view-in-github",
        "colab_type": "text"
      },
      "source": [
        "<a href=\"https://colab.research.google.com/github/MGhimiray/Python-libraries/blob/main/matplotlib.ipynb\" target=\"_parent\"><img src=\"https://colab.research.google.com/assets/colab-badge.svg\" alt=\"Open In Colab\"/></a>"
      ]
    },
    {
      "cell_type": "code",
      "execution_count": null,
      "metadata": {
        "id": "LsLEqk1VrizK"
      },
      "outputs": [],
      "source": [
        "import numpy as np\n",
        "import matplotlib\n",
        "from matplotlib import pyplot as plt\n",
        "x = [1, 2, 3, 4, 5]\n",
        "y = [i**2 for i in x]\n",
        "plt.scatter(x, y)     #plotting only points\n",
        "plt.show()\n",
        "plt.plot(x,y)         #line plot\n",
        "plt.show()\n",
        "plt.bar(x,y)          #Bar diagram\n",
        "plt.show()\n",
        "plt.hist(y)           #Histogram\n",
        "plt.show()"
      ]
    },
    {
      "cell_type": "markdown",
      "source": [
        "Providing titles and labels"
      ],
      "metadata": {
        "id": "leoR3iOWLyua"
      }
    },
    {
      "cell_type": "code",
      "source": [
        "plt.scatter(x, y)\n",
        "plt.title(\"Square of x\")\n",
        "plt.xlabel(\"x\")\n",
        "plt.ylabel(\"y\")\n",
        "plt.show()"
      ],
      "metadata": {
        "id": "OvJn6fwKLT5E"
      },
      "execution_count": null,
      "outputs": []
    },
    {
      "cell_type": "markdown",
      "source": [
        "3D Plot"
      ],
      "metadata": {
        "id": "Q0KnqbAVOwPz"
      }
    },
    {
      "cell_type": "code",
      "source": [
        "from mpl_toolkits import mplot3d\n",
        "fig = plt.figure()\n",
        "xy = plt.axes(projection=\"3d\")\n",
        "\n",
        "x = [1, 2, 3, 4, 5]\n",
        "y = [i**2 for i in x]\n",
        "z = [2*i for i in x]\n",
        "\n",
        "xy.plot3D(x, y, z, 'green')\n",
        "plt.show()"
      ],
      "metadata": {
        "id": "3wpuNxIaNp9I"
      },
      "execution_count": null,
      "outputs": []
    },
    {
      "cell_type": "code",
      "source": [
        "x = np.arange(-5,5,1)\n",
        "y = np.arange(-5,5,1)\n",
        "x,y = np.meshgrid(x, y)\n",
        "z = np.tan(x * np.pi/2 )\n",
        "\n",
        "fig = plt.figure()\n",
        "xy = plt.axes(projection=\"3d\")\n",
        "graph = xy.plot_wireframe(x, y, z, color=\"black\")\n",
        "plt.show()"
      ],
      "metadata": {
        "id": "I8zBivIDO9oV"
      },
      "execution_count": null,
      "outputs": []
    },
    {
      "cell_type": "code",
      "source": [
        "fig = plt.figure()\n",
        "xy = fig.add_subplot(111, projection='3d')\n",
        "surface = xy.plot_surface(x, y, z, cmap='viridis')\n",
        "plt.show()\n"
      ],
      "metadata": {
        "id": "46owU0d0WfL8"
      },
      "execution_count": null,
      "outputs": []
    },
    {
      "cell_type": "code",
      "source": [
        "fig = plt.figure()\n",
        "xy = fig.add_subplot(111, projection='3d')\n",
        "scatter = xy.scatter(x, y, z, c='red', marker='o')\n",
        "plt.show()\n"
      ],
      "metadata": {
        "id": "a4NjoxGAWTNr"
      },
      "execution_count": null,
      "outputs": []
    },
    {
      "cell_type": "code",
      "source": [
        "fig = plt.figure()\n",
        "xy = fig.add_subplot(111, projection='3d')\n",
        "contour = xy.contour(x, y, z, levels=20, cmap='viridis')\n",
        "plt.show()"
      ],
      "metadata": {
        "id": "5YxpK-7NWqU8"
      },
      "execution_count": null,
      "outputs": []
    }
  ]
}