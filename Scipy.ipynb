{
  "nbformat": 4,
  "nbformat_minor": 0,
  "metadata": {
    "colab": {
      "provenance": [],
      "authorship_tag": "ABX9TyOtASNntl16dUvk9ALzo5Vh",
      "include_colab_link": true
    },
    "kernelspec": {
      "name": "python3",
      "display_name": "Python 3"
    },
    "language_info": {
      "name": "python"
    }
  },
  "cells": [
    {
      "cell_type": "markdown",
      "metadata": {
        "id": "view-in-github",
        "colab_type": "text"
      },
      "source": [
        "<a href=\"https://colab.research.google.com/github/MGhimiray/Python-libraries/blob/main/Scipy.ipynb\" target=\"_parent\"><img src=\"https://colab.research.google.com/assets/colab-badge.svg\" alt=\"Open In Colab\"/></a>"
      ]
    },
    {
      "cell_type": "markdown",
      "source": [
        "Import modules"
      ],
      "metadata": {
        "id": "4Mxno2FB3rW8"
      }
    },
    {
      "cell_type": "code",
      "execution_count": 75,
      "metadata": {
        "id": "un2UpaRV3WO7"
      },
      "outputs": [],
      "source": [
        "import scipy\n",
        "import numpy as np\n",
        "import matplotlib.pyplot as plt\n",
        "from scipy import constants"
      ]
    },
    {
      "cell_type": "markdown",
      "source": [
        "Printing list of all units in constant *module*"
      ],
      "metadata": {
        "id": "T9uYRo-C35qH"
      }
    },
    {
      "cell_type": "code",
      "source": [
        "print(dir(constants))"
      ],
      "metadata": {
        "colab": {
          "base_uri": "https://localhost:8080/"
        },
        "id": "hDDCI-BV4Nmy",
        "outputId": "2c4839f0-6d1a-4866-82f1-bf0cc08d530f"
      },
      "execution_count": 55,
      "outputs": [
        {
          "output_type": "stream",
          "name": "stdout",
          "text": [
            "['Avogadro', 'Boltzmann', 'Btu', 'Btu_IT', 'Btu_th', 'ConstantWarning', 'G', 'Julian_year', 'N_A', 'Planck', 'R', 'Rydberg', 'Stefan_Boltzmann', 'Wien', '__all__', '__builtins__', '__cached__', '__doc__', '__file__', '__loader__', '__name__', '__package__', '__path__', '__spec__', '_codata', '_constants', '_obsolete_constants', 'acre', 'alpha', 'angstrom', 'arcmin', 'arcminute', 'arcsec', 'arcsecond', 'astronomical_unit', 'atm', 'atmosphere', 'atomic_mass', 'atto', 'au', 'bar', 'barrel', 'bbl', 'blob', 'c', 'calorie', 'calorie_IT', 'calorie_th', 'carat', 'centi', 'codata', 'constants', 'convert_temperature', 'day', 'deci', 'degree', 'degree_Fahrenheit', 'deka', 'dyn', 'dyne', 'e', 'eV', 'electron_mass', 'electron_volt', 'elementary_charge', 'epsilon_0', 'erg', 'exa', 'exbi', 'femto', 'fermi', 'find', 'fine_structure', 'fluid_ounce', 'fluid_ounce_US', 'fluid_ounce_imp', 'foot', 'g', 'gallon', 'gallon_US', 'gallon_imp', 'gas_constant', 'gibi', 'giga', 'golden', 'golden_ratio', 'grain', 'gram', 'gravitational_constant', 'h', 'hbar', 'hectare', 'hecto', 'horsepower', 'hour', 'hp', 'inch', 'k', 'kgf', 'kibi', 'kilo', 'kilogram_force', 'kmh', 'knot', 'lambda2nu', 'lb', 'lbf', 'light_year', 'liter', 'litre', 'long_ton', 'm_e', 'm_n', 'm_p', 'm_u', 'mach', 'mebi', 'mega', 'metric_ton', 'micro', 'micron', 'mil', 'mile', 'milli', 'minute', 'mmHg', 'mph', 'mu_0', 'nano', 'nautical_mile', 'neutron_mass', 'nu2lambda', 'ounce', 'oz', 'parsec', 'pebi', 'peta', 'physical_constants', 'pi', 'pico', 'point', 'pound', 'pound_force', 'precision', 'proton_mass', 'psi', 'pt', 'short_ton', 'sigma', 'slinch', 'slug', 'speed_of_light', 'speed_of_sound', 'stone', 'survey_foot', 'survey_mile', 'tebi', 'tera', 'test', 'ton_TNT', 'torr', 'troy_ounce', 'troy_pound', 'u', 'unit', 'value', 'week', 'yard', 'year', 'yobi', 'yocto', 'yotta', 'zebi', 'zepto', 'zero_Celsius', 'zetta']\n"
          ]
        }
      ]
    },
    {
      "cell_type": "markdown",
      "source": [
        "Printing constants"
      ],
      "metadata": {
        "id": "Jp67BdrV5Yc9"
      }
    },
    {
      "cell_type": "code",
      "source": [
        "print(constants.Avogadro)\n",
        "print(constants.Julian_year)"
      ],
      "metadata": {
        "id": "DPZ4k4JV5BJg"
      },
      "execution_count": null,
      "outputs": []
    },
    {
      "cell_type": "markdown",
      "source": [
        "Solving the non linear equations"
      ],
      "metadata": {
        "id": "mjD8eBOzPbq8"
      }
    },
    {
      "cell_type": "code",
      "source": [
        "from scipy.optimize import fsolve\n",
        "\n",
        "def f(variables):\n",
        "    x, y = variables\n",
        "    eq1 = x**2 - y**2\n",
        "    eq2 = y-4*2*x**2\n",
        "    return [eq1,eq2]\n",
        "\n",
        "# Get initial guess values from user\n",
        "\n",
        "x0=0\n",
        "y0=0\n",
        "\n",
        "# Solve the system of equations\n",
        "value = fsolve(f, [x0, y0])\n",
        "\n",
        "print(\"x =\", value[0])\n",
        "print(\"y =\", value[1])\n"
      ],
      "metadata": {
        "id": "JpIo2SbJNjhc"
      },
      "execution_count": null,
      "outputs": []
    },
    {
      "cell_type": "markdown",
      "source": [
        "finding root"
      ],
      "metadata": {
        "id": "JyUNuGKIPiPL"
      }
    },
    {
      "cell_type": "code",
      "source": [
        "from scipy.optimize import root\n",
        "\n",
        "def f(x):\n",
        "    return x**2 -4\n",
        "\n",
        "# Solve the system of equations\n",
        "value = root(f, 3)\n",
        "\n",
        "print(value.x)"
      ],
      "metadata": {
        "id": "RfkKXQn9ONfD"
      },
      "execution_count": null,
      "outputs": []
    },
    {
      "cell_type": "markdown",
      "source": [
        "Sparse data"
      ],
      "metadata": {
        "id": "IlTKqAHiSQLo"
      }
    },
    {
      "cell_type": "code",
      "source": [
        "from scipy.sparse import csr_matrix\n",
        "num = np.array([1,2,0,3,0,0,0,0,0,0,5,3,0])\n",
        "num1=csr_matrix(num)\n",
        "print(num1)          #csr matrix from spares data\n",
        "print(num1.data)        #printing only the data\n",
        "print(csr_matrix(num1).count_nonzero())           #counting non zero values"
      ],
      "metadata": {
        "id": "HMVmwT59P2bE"
      },
      "execution_count": null,
      "outputs": []
    },
    {
      "cell_type": "code",
      "source": [
        "Delaunay Triangulation using random points"
      ],
      "metadata": {
        "id": "Kxc1TtuGiCDb"
      },
      "execution_count": null,
      "outputs": []
    },
    {
      "cell_type": "code",
      "source": [
        "from scipy.spatial import Delaunay\n",
        "\n",
        "np.random.seed(0)\n",
        "points = np.random.rand(20, 2)  # 20 points in 2D space\n",
        "\n",
        "tri = Delaunay(points)\n",
        "plt.triplot(points[:, 0], points[:, 1], tri.simplices)\n",
        "plt.plot(points[:, 0], points[:, 1], 'o')\n",
        "\n",
        "plt.xlabel('X')\n",
        "plt.ylabel('Y')\n",
        "plt.title('Delaunay Triangulation')\n",
        "plt.show()\n"
      ],
      "metadata": {
        "id": "IGshjPekhtwc"
      },
      "execution_count": null,
      "outputs": []
    }
  ]
}