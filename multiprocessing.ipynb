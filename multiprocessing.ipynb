{
  "nbformat": 4,
  "nbformat_minor": 0,
  "metadata": {
    "colab": {
      "provenance": [],
      "authorship_tag": "ABX9TyOIuSbZVkQeQF7720AFADqe",
      "include_colab_link": true
    },
    "kernelspec": {
      "name": "python3",
      "display_name": "Python 3"
    },
    "language_info": {
      "name": "python"
    }
  },
  "cells": [
    {
      "cell_type": "markdown",
      "metadata": {
        "id": "view-in-github",
        "colab_type": "text"
      },
      "source": [
        "<a href=\"https://colab.research.google.com/github/MGhimiray/Python-libraries/blob/main/multiprocessing.ipynb\" target=\"_parent\"><img src=\"https://colab.research.google.com/assets/colab-badge.svg\" alt=\"Open In Colab\"/></a>"
      ]
    },
    {
      "cell_type": "markdown",
      "source": [
        "Executing a normal code"
      ],
      "metadata": {
        "id": "kbhxdQxvd_sj"
      }
    },
    {
      "cell_type": "code",
      "execution_count": 9,
      "metadata": {
        "colab": {
          "base_uri": "https://localhost:8080/"
        },
        "id": "qLwjFqyUdfV4",
        "outputId": "38e7d6ec-fe48-4773-b7bb-f2bfa74d76df"
      },
      "outputs": [
        {
          "output_type": "stream",
          "name": "stdout",
          "text": [
            "Execution Time (without multiprocessing): 10.00971794128418 seconds\n"
          ]
        }
      ],
      "source": [
        "import time\n",
        "\n",
        "def calculate_square(x):\n",
        "    time.sleep(1)  # Simulate some time-consuming task\n",
        "    return x ** 2\n",
        "\n",
        "start_time = time.time()\n",
        "\n",
        "results = []\n",
        "for i in range(1, 11):\n",
        "    result = calculate_square(i)\n",
        "    results.append(result)\n",
        "\n",
        "end_time = time.time()\n",
        "\n",
        "print(\"Execution Time (without multiprocessing):\", end_time - start_time, \"seconds\")\n"
      ]
    },
    {
      "cell_type": "markdown",
      "source": [
        "Executing a code with multi-processing"
      ],
      "metadata": {
        "id": "N-zURm98d4j8"
      }
    },
    {
      "cell_type": "code",
      "source": [
        "import time\n",
        "import multiprocessing\n",
        "\n",
        "def calculate_square(x):\n",
        "    time.sleep(1)  # Simulate some time-consuming task\n",
        "    return x ** 2\n",
        "\n",
        "if __name__ == '__main__':\n",
        "    start_time = time.time()\n",
        "\n",
        "    with multiprocessing.Pool() as pool:\n",
        "        results = pool.map(calculate_square, range(1, 11))\n",
        "\n",
        "    end_time = time.time()\n",
        "\n",
        "    print(\"Execution Time (with multiprocessing):\", end_time - start_time, \"seconds\")\n"
      ],
      "metadata": {
        "colab": {
          "base_uri": "https://localhost:8080/"
        },
        "id": "MQLUVUihdpQx",
        "outputId": "025762ed-dca4-4847-bd2a-3554be9c8545"
      },
      "execution_count": 8,
      "outputs": [
        {
          "output_type": "stream",
          "name": "stdout",
          "text": [
            "Execution Time (with multiprocessing): 6.038952350616455 seconds\n"
          ]
        }
      ]
    }
  ]
}