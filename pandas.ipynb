{
  "nbformat": 4,
  "nbformat_minor": 0,
  "metadata": {
    "colab": {
      "provenance": [],
      "authorship_tag": "ABX9TyPoBoe040UQLtkdnRUasSsf",
      "include_colab_link": true
    },
    "kernelspec": {
      "name": "python3",
      "display_name": "Python 3"
    },
    "language_info": {
      "name": "python"
    }
  },
  "cells": [
    {
      "cell_type": "markdown",
      "metadata": {
        "id": "view-in-github",
        "colab_type": "text"
      },
      "source": [
        "<a href=\"https://colab.research.google.com/github/MGhimiray/Python-libraries/blob/main/pandas.ipynb\" target=\"_parent\"><img src=\"https://colab.research.google.com/assets/colab-badge.svg\" alt=\"Open In Colab\"/></a>"
      ]
    },
    {
      "cell_type": "markdown",
      "source": [
        "Uploading .csv file for importing datas."
      ],
      "metadata": {
        "id": "sMwg876891Rk"
      }
    },
    {
      "cell_type": "code",
      "source": [
        "from google.colab import files\n",
        "uploaded = files.upload()"
      ],
      "metadata": {
        "colab": {
          "base_uri": "https://localhost:8080/",
          "height": 75
        },
        "id": "NqNL5b7B54Hh",
        "outputId": "f07d9f43-576a-4d01-9232-319fa61d4a17"
      },
      "execution_count": 2,
      "outputs": [
        {
          "output_type": "display_data",
          "data": {
            "text/plain": [
              "<IPython.core.display.HTML object>"
            ],
            "text/html": [
              "\n",
              "     <input type=\"file\" id=\"files-e7c8ae86-bb01-4917-99e1-bb4fe5f8677b\" name=\"files[]\" multiple disabled\n",
              "        style=\"border:none\" />\n",
              "     <output id=\"result-e7c8ae86-bb01-4917-99e1-bb4fe5f8677b\">\n",
              "      Upload widget is only available when the cell has been executed in the\n",
              "      current browser session. Please rerun this cell to enable.\n",
              "      </output>\n",
              "      <script>// Copyright 2017 Google LLC\n",
              "//\n",
              "// Licensed under the Apache License, Version 2.0 (the \"License\");\n",
              "// you may not use this file except in compliance with the License.\n",
              "// You may obtain a copy of the License at\n",
              "//\n",
              "//      http://www.apache.org/licenses/LICENSE-2.0\n",
              "//\n",
              "// Unless required by applicable law or agreed to in writing, software\n",
              "// distributed under the License is distributed on an \"AS IS\" BASIS,\n",
              "// WITHOUT WARRANTIES OR CONDITIONS OF ANY KIND, either express or implied.\n",
              "// See the License for the specific language governing permissions and\n",
              "// limitations under the License.\n",
              "\n",
              "/**\n",
              " * @fileoverview Helpers for google.colab Python module.\n",
              " */\n",
              "(function(scope) {\n",
              "function span(text, styleAttributes = {}) {\n",
              "  const element = document.createElement('span');\n",
              "  element.textContent = text;\n",
              "  for (const key of Object.keys(styleAttributes)) {\n",
              "    element.style[key] = styleAttributes[key];\n",
              "  }\n",
              "  return element;\n",
              "}\n",
              "\n",
              "// Max number of bytes which will be uploaded at a time.\n",
              "const MAX_PAYLOAD_SIZE = 100 * 1024;\n",
              "\n",
              "function _uploadFiles(inputId, outputId) {\n",
              "  const steps = uploadFilesStep(inputId, outputId);\n",
              "  const outputElement = document.getElementById(outputId);\n",
              "  // Cache steps on the outputElement to make it available for the next call\n",
              "  // to uploadFilesContinue from Python.\n",
              "  outputElement.steps = steps;\n",
              "\n",
              "  return _uploadFilesContinue(outputId);\n",
              "}\n",
              "\n",
              "// This is roughly an async generator (not supported in the browser yet),\n",
              "// where there are multiple asynchronous steps and the Python side is going\n",
              "// to poll for completion of each step.\n",
              "// This uses a Promise to block the python side on completion of each step,\n",
              "// then passes the result of the previous step as the input to the next step.\n",
              "function _uploadFilesContinue(outputId) {\n",
              "  const outputElement = document.getElementById(outputId);\n",
              "  const steps = outputElement.steps;\n",
              "\n",
              "  const next = steps.next(outputElement.lastPromiseValue);\n",
              "  return Promise.resolve(next.value.promise).then((value) => {\n",
              "    // Cache the last promise value to make it available to the next\n",
              "    // step of the generator.\n",
              "    outputElement.lastPromiseValue = value;\n",
              "    return next.value.response;\n",
              "  });\n",
              "}\n",
              "\n",
              "/**\n",
              " * Generator function which is called between each async step of the upload\n",
              " * process.\n",
              " * @param {string} inputId Element ID of the input file picker element.\n",
              " * @param {string} outputId Element ID of the output display.\n",
              " * @return {!Iterable<!Object>} Iterable of next steps.\n",
              " */\n",
              "function* uploadFilesStep(inputId, outputId) {\n",
              "  const inputElement = document.getElementById(inputId);\n",
              "  inputElement.disabled = false;\n",
              "\n",
              "  const outputElement = document.getElementById(outputId);\n",
              "  outputElement.innerHTML = '';\n",
              "\n",
              "  const pickedPromise = new Promise((resolve) => {\n",
              "    inputElement.addEventListener('change', (e) => {\n",
              "      resolve(e.target.files);\n",
              "    });\n",
              "  });\n",
              "\n",
              "  const cancel = document.createElement('button');\n",
              "  inputElement.parentElement.appendChild(cancel);\n",
              "  cancel.textContent = 'Cancel upload';\n",
              "  const cancelPromise = new Promise((resolve) => {\n",
              "    cancel.onclick = () => {\n",
              "      resolve(null);\n",
              "    };\n",
              "  });\n",
              "\n",
              "  // Wait for the user to pick the files.\n",
              "  const files = yield {\n",
              "    promise: Promise.race([pickedPromise, cancelPromise]),\n",
              "    response: {\n",
              "      action: 'starting',\n",
              "    }\n",
              "  };\n",
              "\n",
              "  cancel.remove();\n",
              "\n",
              "  // Disable the input element since further picks are not allowed.\n",
              "  inputElement.disabled = true;\n",
              "\n",
              "  if (!files) {\n",
              "    return {\n",
              "      response: {\n",
              "        action: 'complete',\n",
              "      }\n",
              "    };\n",
              "  }\n",
              "\n",
              "  for (const file of files) {\n",
              "    const li = document.createElement('li');\n",
              "    li.append(span(file.name, {fontWeight: 'bold'}));\n",
              "    li.append(span(\n",
              "        `(${file.type || 'n/a'}) - ${file.size} bytes, ` +\n",
              "        `last modified: ${\n",
              "            file.lastModifiedDate ? file.lastModifiedDate.toLocaleDateString() :\n",
              "                                    'n/a'} - `));\n",
              "    const percent = span('0% done');\n",
              "    li.appendChild(percent);\n",
              "\n",
              "    outputElement.appendChild(li);\n",
              "\n",
              "    const fileDataPromise = new Promise((resolve) => {\n",
              "      const reader = new FileReader();\n",
              "      reader.onload = (e) => {\n",
              "        resolve(e.target.result);\n",
              "      };\n",
              "      reader.readAsArrayBuffer(file);\n",
              "    });\n",
              "    // Wait for the data to be ready.\n",
              "    let fileData = yield {\n",
              "      promise: fileDataPromise,\n",
              "      response: {\n",
              "        action: 'continue',\n",
              "      }\n",
              "    };\n",
              "\n",
              "    // Use a chunked sending to avoid message size limits. See b/62115660.\n",
              "    let position = 0;\n",
              "    do {\n",
              "      const length = Math.min(fileData.byteLength - position, MAX_PAYLOAD_SIZE);\n",
              "      const chunk = new Uint8Array(fileData, position, length);\n",
              "      position += length;\n",
              "\n",
              "      const base64 = btoa(String.fromCharCode.apply(null, chunk));\n",
              "      yield {\n",
              "        response: {\n",
              "          action: 'append',\n",
              "          file: file.name,\n",
              "          data: base64,\n",
              "        },\n",
              "      };\n",
              "\n",
              "      let percentDone = fileData.byteLength === 0 ?\n",
              "          100 :\n",
              "          Math.round((position / fileData.byteLength) * 100);\n",
              "      percent.textContent = `${percentDone}% done`;\n",
              "\n",
              "    } while (position < fileData.byteLength);\n",
              "  }\n",
              "\n",
              "  // All done.\n",
              "  yield {\n",
              "    response: {\n",
              "      action: 'complete',\n",
              "    }\n",
              "  };\n",
              "}\n",
              "\n",
              "scope.google = scope.google || {};\n",
              "scope.google.colab = scope.google.colab || {};\n",
              "scope.google.colab._files = {\n",
              "  _uploadFiles,\n",
              "  _uploadFilesContinue,\n",
              "};\n",
              "})(self);\n",
              "</script> "
            ]
          },
          "metadata": {}
        },
        {
          "output_type": "stream",
          "name": "stdout",
          "text": [
            "Saving ds_salaries.csv to ds_salaries.csv\n"
          ]
        }
      ]
    },
    {
      "cell_type": "markdown",
      "source": [
        "Import Numpy and panda modules"
      ],
      "metadata": {
        "id": "ScPzrxtH0GTx"
      }
    },
    {
      "cell_type": "code",
      "execution_count": 3,
      "metadata": {
        "id": "5TwhLJkAzP6Q"
      },
      "outputs": [],
      "source": [
        "import numpy as np\n",
        "import pandas as pd"
      ]
    },
    {
      "cell_type": "markdown",
      "source": [
        "reading the .csv file"
      ],
      "metadata": {
        "id": "1ujQgTVp0M8o"
      }
    },
    {
      "cell_type": "code",
      "source": [
        "data =  pd.read_csv('ds_salaries.csv')\n",
        "print(data)"
      ],
      "metadata": {
        "colab": {
          "base_uri": "https://localhost:8080/"
        },
        "id": "P8ATZEe13jWT",
        "outputId": "48710f9d-7c59-4540-9b32-60048bca9a4b"
      },
      "execution_count": 4,
      "outputs": [
        {
          "output_type": "stream",
          "name": "stdout",
          "text": [
            "      work_year experience_level employment_type                 job_title  \\\n",
            "0          2023               SE              FT  Principal Data Scientist   \n",
            "1          2023               MI              CT               ML Engineer   \n",
            "2          2023               MI              CT               ML Engineer   \n",
            "3          2023               SE              FT            Data Scientist   \n",
            "4          2023               SE              FT            Data Scientist   \n",
            "...         ...              ...             ...                       ...   \n",
            "3750       2020               SE              FT            Data Scientist   \n",
            "3751       2021               MI              FT  Principal Data Scientist   \n",
            "3752       2020               EN              FT            Data Scientist   \n",
            "3753       2020               EN              CT     Business Data Analyst   \n",
            "3754       2021               SE              FT      Data Science Manager   \n",
            "\n",
            "       salary salary_currency  salary_in_usd employee_residence  remote_ratio  \\\n",
            "0       80000             EUR          85847                 ES           100   \n",
            "1       30000             USD          30000                 US           100   \n",
            "2       25500             USD          25500                 US           100   \n",
            "3      175000             USD         175000                 CA           100   \n",
            "4      120000             USD         120000                 CA           100   \n",
            "...       ...             ...            ...                ...           ...   \n",
            "3750   412000             USD         412000                 US           100   \n",
            "3751   151000             USD         151000                 US           100   \n",
            "3752   105000             USD         105000                 US           100   \n",
            "3753   100000             USD         100000                 US           100   \n",
            "3754  7000000             INR          94665                 IN            50   \n",
            "\n",
            "     company_location company_size  \n",
            "0                  ES            L  \n",
            "1                  US            S  \n",
            "2                  US            S  \n",
            "3                  CA            M  \n",
            "4                  CA            M  \n",
            "...               ...          ...  \n",
            "3750               US            L  \n",
            "3751               US            L  \n",
            "3752               US            S  \n",
            "3753               US            L  \n",
            "3754               IN            L  \n",
            "\n",
            "[3755 rows x 11 columns]\n"
          ]
        }
      ]
    },
    {
      "cell_type": "markdown",
      "source": [
        "Printing the required amount of data"
      ],
      "metadata": {
        "id": "ESNRt1mcYkiP"
      }
    },
    {
      "cell_type": "code",
      "source": [
        "print(data.head(10))"
      ],
      "metadata": {
        "colab": {
          "base_uri": "https://localhost:8080/"
        },
        "id": "qoBSMAXW7vYd",
        "outputId": "250f3e68-b6ac-4021-f86e-9f81773ab349"
      },
      "execution_count": 8,
      "outputs": [
        {
          "output_type": "stream",
          "name": "stdout",
          "text": [
            "   work_year experience_level employment_type                 job_title  \\\n",
            "0       2023               SE              FT  Principal Data Scientist   \n",
            "1       2023               MI              CT               ML Engineer   \n",
            "2       2023               MI              CT               ML Engineer   \n",
            "3       2023               SE              FT            Data Scientist   \n",
            "4       2023               SE              FT            Data Scientist   \n",
            "5       2023               SE              FT         Applied Scientist   \n",
            "6       2023               SE              FT         Applied Scientist   \n",
            "7       2023               SE              FT            Data Scientist   \n",
            "8       2023               SE              FT            Data Scientist   \n",
            "9       2023               SE              FT            Data Scientist   \n",
            "\n",
            "   salary salary_currency  salary_in_usd employee_residence  remote_ratio  \\\n",
            "0   80000             EUR          85847                 ES           100   \n",
            "1   30000             USD          30000                 US           100   \n",
            "2   25500             USD          25500                 US           100   \n",
            "3  175000             USD         175000                 CA           100   \n",
            "4  120000             USD         120000                 CA           100   \n",
            "5  222200             USD         222200                 US             0   \n",
            "6  136000             USD         136000                 US             0   \n",
            "7  219000             USD         219000                 CA             0   \n",
            "8  141000             USD         141000                 CA             0   \n",
            "9  147100             USD         147100                 US             0   \n",
            "\n",
            "  company_location company_size  \n",
            "0               ES            L  \n",
            "1               US            S  \n",
            "2               US            S  \n",
            "3               CA            M  \n",
            "4               CA            M  \n",
            "5               US            L  \n",
            "6               US            L  \n",
            "7               CA            M  \n",
            "8               CA            M  \n",
            "9               US            M  \n"
          ]
        }
      ]
    },
    {
      "cell_type": "markdown",
      "source": [
        "Printing the data types"
      ],
      "metadata": {
        "id": "oj3PkqC89gau"
      }
    },
    {
      "cell_type": "code",
      "source": [
        "print(data.dtypes)"
      ],
      "metadata": {
        "colab": {
          "base_uri": "https://localhost:8080/"
        },
        "id": "DICt3JA-9Qcu",
        "outputId": "0a360531-87d1-410f-ee51-bfb08f7b63b8"
      },
      "execution_count": 9,
      "outputs": [
        {
          "output_type": "stream",
          "name": "stdout",
          "text": [
            "work_year              int64\n",
            "experience_level      object\n",
            "employment_type       object\n",
            "job_title             object\n",
            "salary                 int64\n",
            "salary_currency       object\n",
            "salary_in_usd          int64\n",
            "employee_residence    object\n",
            "remote_ratio           int64\n",
            "company_location      object\n",
            "company_size          object\n",
            "dtype: object\n"
          ]
        }
      ]
    },
    {
      "cell_type": "markdown",
      "source": [
        "Descriding a particular data set present in a particular column"
      ],
      "metadata": {
        "id": "1H4f3tv3aH84"
      }
    },
    {
      "cell_type": "code",
      "source": [
        "print(data['salary_in_usd'].describe())"
      ],
      "metadata": {
        "colab": {
          "base_uri": "https://localhost:8080/"
        },
        "id": "YjcE7u_L-CD7",
        "outputId": "3c8220a6-6064-42dc-8655-e82b5a6adfac"
      },
      "execution_count": 11,
      "outputs": [
        {
          "output_type": "stream",
          "name": "stdout",
          "text": [
            "count      3755.000000\n",
            "mean     137570.389880\n",
            "std       63055.625278\n",
            "min        5132.000000\n",
            "25%       95000.000000\n",
            "50%      135000.000000\n",
            "75%      175000.000000\n",
            "max      450000.000000\n",
            "Name: salary_in_usd, dtype: float64\n"
          ]
        }
      ]
    },
    {
      "cell_type": "markdown",
      "source": [
        "Sorting the available records"
      ],
      "metadata": {
        "id": "4pHextd9Y89H"
      }
    },
    {
      "cell_type": "code",
      "source": [
        "print(data.sort_values('salary_in_usd', ascending=False))"
      ],
      "metadata": {
        "colab": {
          "base_uri": "https://localhost:8080/"
        },
        "id": "i-Yc_JtjZDMc",
        "outputId": "1bc92837-6703-4fd0-849e-d7a139d1edb1"
      },
      "execution_count": 26,
      "outputs": [
        {
          "output_type": "stream",
          "name": "stdout",
          "text": [
            "      work_year experience_level employment_type  \\\n",
            "3522       2020               MI              FT   \n",
            "2011       2022               MI              FT   \n",
            "528        2023               SE              FT   \n",
            "3747       2021               MI              FT   \n",
            "3675       2021               EX              CT   \n",
            "...         ...              ...             ...   \n",
            "3685       2020               EN              FT   \n",
            "3667       2021               MI              FT   \n",
            "3537       2021               MI              PT   \n",
            "2578       2021               EN              FT   \n",
            "2684       2022               MI              FT   \n",
            "\n",
            "                               job_title   salary salary_currency  \\\n",
            "3522                  Research Scientist   450000             USD   \n",
            "2011                        Data Analyst   350000             GBP   \n",
            "528                         AI Scientist  1500000             ILS   \n",
            "3747  Applied Machine Learning Scientist   423000             USD   \n",
            "3675            Principal Data Scientist   416000             USD   \n",
            "...                                  ...      ...             ...   \n",
            "3685             Data Science Consultant   423000             INR   \n",
            "3667                      Data Scientist   420000             INR   \n",
            "3537       3D Computer Vision Researcher   400000             INR   \n",
            "2578                  Power BI Developer   400000             INR   \n",
            "2684                        NLP Engineer   120000             CZK   \n",
            "\n",
            "      salary_in_usd employee_residence  remote_ratio company_location  \\\n",
            "3522         450000                 US             0               US   \n",
            "2011         430967                 GB             0               GB   \n",
            "528          423834                 IL             0               IL   \n",
            "3747         423000                 US            50               US   \n",
            "3675         416000                 US           100               US   \n",
            "...             ...                ...           ...              ...   \n",
            "3685           5707                 IN            50               IN   \n",
            "3667           5679                 IN           100               US   \n",
            "3537           5409                 IN            50               IN   \n",
            "2578           5409                 IN            50               IN   \n",
            "2684           5132                 CZ           100               CZ   \n",
            "\n",
            "     company_size  \n",
            "3522            M  \n",
            "2011            M  \n",
            "528             L  \n",
            "3747            L  \n",
            "3675            S  \n",
            "...           ...  \n",
            "3685            M  \n",
            "3667            S  \n",
            "3537            M  \n",
            "2578            L  \n",
            "2684            M  \n",
            "\n",
            "[3755 rows x 11 columns]\n"
          ]
        }
      ]
    },
    {
      "cell_type": "code",
      "source": [
        "print(data[data['salary_in_usd']>100000])"
      ],
      "metadata": {
        "colab": {
          "base_uri": "https://localhost:8080/"
        },
        "id": "UZFpbySHayln",
        "outputId": "014fd789-c7c9-4793-8430-c1132b6c7d49"
      },
      "execution_count": 27,
      "outputs": [
        {
          "output_type": "stream",
          "name": "stdout",
          "text": [
            "      work_year experience_level employment_type  \\\n",
            "3          2023               SE              FT   \n",
            "4          2023               SE              FT   \n",
            "5          2023               SE              FT   \n",
            "6          2023               SE              FT   \n",
            "7          2023               SE              FT   \n",
            "...         ...              ...             ...   \n",
            "3747       2021               MI              FT   \n",
            "3749       2021               SE              FT   \n",
            "3750       2020               SE              FT   \n",
            "3751       2021               MI              FT   \n",
            "3752       2020               EN              FT   \n",
            "\n",
            "                               job_title  salary salary_currency  \\\n",
            "3                         Data Scientist  175000             USD   \n",
            "4                         Data Scientist  120000             USD   \n",
            "5                      Applied Scientist  222200             USD   \n",
            "6                      Applied Scientist  136000             USD   \n",
            "7                         Data Scientist  219000             USD   \n",
            "...                                  ...     ...             ...   \n",
            "3747  Applied Machine Learning Scientist  423000             USD   \n",
            "3749                     Data Specialist  165000             USD   \n",
            "3750                      Data Scientist  412000             USD   \n",
            "3751            Principal Data Scientist  151000             USD   \n",
            "3752                      Data Scientist  105000             USD   \n",
            "\n",
            "      salary_in_usd employee_residence  remote_ratio company_location  \\\n",
            "3            175000                 CA           100               CA   \n",
            "4            120000                 CA           100               CA   \n",
            "5            222200                 US             0               US   \n",
            "6            136000                 US             0               US   \n",
            "7            219000                 CA             0               CA   \n",
            "...             ...                ...           ...              ...   \n",
            "3747         423000                 US            50               US   \n",
            "3749         165000                 US           100               US   \n",
            "3750         412000                 US           100               US   \n",
            "3751         151000                 US           100               US   \n",
            "3752         105000                 US           100               US   \n",
            "\n",
            "     company_size  \n",
            "3               M  \n",
            "4               M  \n",
            "5               L  \n",
            "6               L  \n",
            "7               M  \n",
            "...           ...  \n",
            "3747            L  \n",
            "3749            L  \n",
            "3750            L  \n",
            "3751            L  \n",
            "3752            S  \n",
            "\n",
            "[2665 rows x 11 columns]\n"
          ]
        }
      ]
    }
  ]
}